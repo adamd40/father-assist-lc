{
 "cells": [
  {
   "cell_type": "markdown",
   "metadata": {},
   "source": [
    "## Gather list of Files"
   ]
  },
  {
   "cell_type": "code",
   "execution_count": 1,
   "metadata": {},
   "outputs": [],
   "source": [
    "title= 'Federal Circuit and Family Court of Australia - Division 2 Family Law'\n",
    "target = 'https://www.austlii.edu.au/cgi-bin/viewtoc/au/cases/cth/FedCFamC2F/'\n",
    "years=['2021', '2022', '2023', '2024', '2025']"
   ]
  },
  {
   "cell_type": "code",
   "execution_count": 4,
   "metadata": {},
   "outputs": [
    {
     "name": "stdout",
     "output_type": "stream",
     "text": [
      "200\n",
      "200\n"
     ]
    },
    {
     "ename": "KeyboardInterrupt",
     "evalue": "",
     "output_type": "error",
     "traceback": [
      "\u001b[31m---------------------------------------------------------------------------\u001b[39m",
      "\u001b[31mKeyboardInterrupt\u001b[39m                         Traceback (most recent call last)",
      "\u001b[36mCell\u001b[39m\u001b[36m \u001b[39m\u001b[32mIn[4]\u001b[39m\u001b[32m, line 33\u001b[39m\n\u001b[32m     31\u001b[39m     url = target + year + \u001b[33m'\u001b[39m\u001b[33m/\u001b[39m\u001b[33m'\u001b[39m\n\u001b[32m     32\u001b[39m     data = scrapePage()\n\u001b[32m---> \u001b[39m\u001b[32m33\u001b[39m     \u001b[43mtime\u001b[49m\u001b[43m.\u001b[49m\u001b[43msleep\u001b[49m\u001b[43m(\u001b[49m\u001b[32;43m10\u001b[39;49m\u001b[43m)\u001b[49m\n\u001b[32m     34\u001b[39m     df = pd.concat([df, pd.DataFrame(data)], ignore_index=\u001b[38;5;28;01mTrue\u001b[39;00m)\n\u001b[32m     37\u001b[39m \u001b[38;5;28mprint\u001b[39m(df)\n",
      "\u001b[31mKeyboardInterrupt\u001b[39m: "
     ]
    }
   ],
   "source": [
    "from bs4 import BeautifulSoup\n",
    "import pandas as pd\n",
    "import requests\n",
    "import time\n",
    "\n",
    "url = target\n",
    "headers = {\n",
    "        'User-Agent': 'Mozilla/5.0 (Windows NT 10.0; Win64; x64) AppleWebKit/537.36 (KHTML, like Gecko) Chrome/126.0.0.0 Safari/537.36'\n",
    "}\n",
    "df = pd.DataFrame()\n",
    "\n",
    "def scrapePage():\n",
    "    response = requests.get(url, headers=headers)\n",
    "    print(response.status_code)\n",
    "\n",
    "    soup = BeautifulSoup(response.text, 'html.parser')\n",
    "    cards = soup.find_all('div', class_='card')\n",
    "    data = []\n",
    "    for card in cards:\n",
    "        ul = card.find('ul')\n",
    "        \n",
    "        for li in ul.find_all('li'):\n",
    "            a = li.find('a')\n",
    "            href = a.get('href')\n",
    "            text = a.text.strip()\n",
    "            data.append({'href': href, 'text': text})\n",
    "    return data\n",
    "\n",
    "# Append data to df\n",
    "for year in years:\n",
    "    url = target + year + '/'\n",
    "    data = scrapePage()\n",
    "    time.sleep(10)\n",
    "    df = pd.concat([df, pd.DataFrame(data)], ignore_index=True)\n",
    "\n",
    "\n",
    "print(df)"
   ]
  },
  {
   "cell_type": "code",
   "execution_count": 193,
   "metadata": {},
   "outputs": [],
   "source": [
    "df.to_csv(title + '.csv')"
   ]
  },
  {
   "cell_type": "markdown",
   "metadata": {},
   "source": [
    "## Pull each individual page, chunk, and save to a DB"
   ]
  },
  {
   "cell_type": "markdown",
   "metadata": {},
   "source": [
    "### Pull Page and save each to cleaned text file"
   ]
  },
  {
   "cell_type": "code",
   "execution_count": 242,
   "metadata": {},
   "outputs": [
    {
     "name": "stdout",
     "output_type": "stream",
     "text": [
      "1271-9559,1272-14885,1273-47076,1274-70238,1275-34602,1276-24294,1277-20506,1278-94020,1279-61061,1280-6036,1281-4054,1282-2635,1283-147578,1284-74259,1285-18363,1286-20066,1287-46752,1288-62717,1289-4199,1290-29970,1291-26130,1292-24016,1293-2393,1294-3453,1295-6128,1296-8185,1297-293,1298-30980,1299-110565,1300-23234,1301-77548,1302-88583,1303-277,1304-121968,1305-69109,1306-4263,1307-50229,1308-20058,1309-5673,1310-20171,1311-415,1312-37266,1313-186608,1314-7478,1315-21699,1316-36902,1317-4690,1318-31155,1319-38375,1320-20803,1321-18946,1322-31598,1323-2338,1324-7058,1325-30500,1326-272,1327-8412,1328-6205,1329-3748,1330-12117,1331-10452,1332-105240,1333-22044,1334-54624,1335-7099,1336-36680,1337-99125,1338-314,1339-88062,1340-22231,1341-23179,1342-16596,1343-4986,1344-36485,1345-25401,1346-526,1347-6279,1348-35280,1349-4450,1350-27513,1351-4147,1352-2634,1353-83694,1354-14700,1355-13475,1356-16514,1357-115483,1358-26822,1359-66247,1360-50885,1361-22061,1362-13610,1363-14716,1364-4324,1365-23016,1366-28145,1367-26209,1368-54952,1369-18335,1370-47757,1371-7954,1372-266,1373-28689,1374-176089,1375-39631,1376-29016,1377-28336,1378-226124,1379-31324,1380-40707,1381-33907,1382-253,1383-64757,1384-58937,1385-95393,1386-158570,1387-12615,1388-17826,1389-309,1390-24606,1391-167616,1392-163253,1393-7790,1394-30929,1395-6973,1396-105983,1397-173714,1398-19284,1399-12449,1400-6475,1401-45356,1402-68104,1403-50532,1404-23424,1405-13280,1406-32648,1407-8623,1408-5753,1409-49237,1410-59128,1411-16332,1412-5769,1413-14355,1414-776,1415-34949,1416-7352,1417-18356,1418-22734,1419-28973,1420-2052,1421-3787,1422-22739,1423-2872,1424-44886,1425-34638,1426-29418,1427-15370,1428-944,1429-25733,1430-5310,1431-16157,1432-24835,1433-54994,1434-18489,1435-103300,1436-30936,1437-15209,1438-36481,1439-94115,1440-20640,1441-25030,1442-30596,1443-69106,1444-67353,1445-52834,1446-25410,1447-40150,1448-2097,1449-24046,1450-28435,1451-7354,1452-14275,1453-30143,1454-8639,1455-55726,1456-34975,1457-9412,1458-17940,1459-55322,1460-9776,1461-66045,1462-15482,1463-69338,1464-12006,1465-6130,1466-9243,1467-37015,1468-20949,1469-17713,1470-25833,1471-103333,1472-35220,1473-9990,"
     ]
    }
   ],
   "source": [
    "import re\n",
    "\n",
    "df = pd.read_csv('Federal Circuit and Family Court of Australia - Division 2 Family Law.csv')\n",
    "\n",
    "base_url = 'https://www.austlii.edu.au/'\n",
    "\n",
    "def scrape_raw(url):\n",
    "    response = requests.get(url, headers=headers)\n",
    "    soup = BeautifulSoup(response.text, 'html.parser')\n",
    "\n",
    "    article = soup.find('article')\n",
    "    # Extract <p> and <blockquote> elements\n",
    "    paragraphs = article.find_all(['p', 'blockquote'])\n",
    "    # Extract text from each element\n",
    "    seen = set()\n",
    "    text = [line for line in [re.sub(r'\\s+', ' ', elem.get_text()) for elem in paragraphs] if line.strip() != '' and not (line in seen or seen.add(line))]\n",
    "    text = [line.lower() for line in text]\n",
    "    return text\n",
    "\n",
    "def clean_text(text):\n",
    "    chunks = []\n",
    "    current_chunk = \"\"\n",
    "    for line in text:\n",
    "        if line.startswith(\"(\") or line.startswith(\" (\") or line.startswith(\" [\"):\n",
    "            current_chunk += \" \" + line[4:]\n",
    "            if current_chunk.startswith(\" \"):\n",
    "                current_chunk = current_chunk[1:]\n",
    "        else:\n",
    "            if current_chunk:\n",
    "                chunks.append(current_chunk.strip().replace(';', ','))\n",
    "            current_chunk = line\n",
    "\n",
    "    if current_chunk:\n",
    "         chunks.append(current_chunk.strip())\n",
    "    return '\\n'.join(chunks)\n",
    "    \n",
    "# loop row by row trough df\n",
    "\n",
    "for index, row in df.iterrows():\n",
    "    if index < 1271: continue\n",
    "    url = base_url + row['href']\n",
    "    raw_text = scrape_raw(url)\n",
    "    cleaned_text = clean_text(raw_text)\n",
    "    with open(str(index) + '.txt', 'w', encoding='utf-8', errors='replace') as f:\n",
    "        f.write(cleaned_text)\n",
    "    print(str(index) + '-' + str(len(cleaned_text)), end=',')\n",
    "    time.sleep(10)\n",
    "\n",
    "    "
   ]
  },
  {
   "cell_type": "markdown",
   "metadata": {},
   "source": [
    "## Anaylze File Sizes"
   ]
  },
  {
   "cell_type": "code",
   "execution_count": 2,
   "metadata": {},
   "outputs": [
    {
     "data": {
      "text/html": [
       "<div>\n",
       "<style scoped>\n",
       "    .dataframe tbody tr th:only-of-type {\n",
       "        vertical-align: middle;\n",
       "    }\n",
       "\n",
       "    .dataframe tbody tr th {\n",
       "        vertical-align: top;\n",
       "    }\n",
       "\n",
       "    .dataframe thead th {\n",
       "        text-align: right;\n",
       "    }\n",
       "</style>\n",
       "<table border=\"1\" class=\"dataframe\">\n",
       "  <thead>\n",
       "    <tr style=\"text-align: right;\">\n",
       "      <th></th>\n",
       "      <th>Length</th>\n",
       "    </tr>\n",
       "    <tr>\n",
       "      <th>File Number</th>\n",
       "      <th></th>\n",
       "    </tr>\n",
       "  </thead>\n",
       "  <tbody>\n",
       "    <tr>\n",
       "      <th>0</th>\n",
       "      <td>43410</td>\n",
       "    </tr>\n",
       "    <tr>\n",
       "      <th>1</th>\n",
       "      <td>35462</td>\n",
       "    </tr>\n",
       "    <tr>\n",
       "      <th>10</th>\n",
       "      <td>34929</td>\n",
       "    </tr>\n",
       "    <tr>\n",
       "      <th>100</th>\n",
       "      <td>76322</td>\n",
       "    </tr>\n",
       "    <tr>\n",
       "      <th>1000</th>\n",
       "      <td>10034</td>\n",
       "    </tr>\n",
       "    <tr>\n",
       "      <th>...</th>\n",
       "      <td>...</td>\n",
       "    </tr>\n",
       "    <tr>\n",
       "      <th>992</th>\n",
       "      <td>7077</td>\n",
       "    </tr>\n",
       "    <tr>\n",
       "      <th>994</th>\n",
       "      <td>9869</td>\n",
       "    </tr>\n",
       "    <tr>\n",
       "      <th>995</th>\n",
       "      <td>9038</td>\n",
       "    </tr>\n",
       "    <tr>\n",
       "      <th>996</th>\n",
       "      <td>9521</td>\n",
       "    </tr>\n",
       "    <tr>\n",
       "      <th>998</th>\n",
       "      <td>12300</td>\n",
       "    </tr>\n",
       "  </tbody>\n",
       "</table>\n",
       "<p>1283 rows × 1 columns</p>\n",
       "</div>"
      ],
      "text/plain": [
       "             Length\n",
       "File Number        \n",
       "0             43410\n",
       "1             35462\n",
       "10            34929\n",
       "100           76322\n",
       "1000          10034\n",
       "...             ...\n",
       "992            7077\n",
       "994            9869\n",
       "995            9038\n",
       "996            9521\n",
       "998           12300\n",
       "\n",
       "[1283 rows x 1 columns]"
      ]
     },
     "execution_count": 2,
     "metadata": {},
     "output_type": "execute_result"
    }
   ],
   "source": [
    "import pandas as pd\n",
    "import os\n",
    "\n",
    "# Initialize an empty list to store file lengths\n",
    "file_lengths = []\n",
    "\n",
    "# Loop through each file in the \"documents\" subdirectory\n",
    "for filename in os.listdir('documents'):\n",
    "    # Check if the file is a .txt file\n",
    "    if filename.endswith(\".txt\"):\n",
    "        # Extract the file number from the filename\n",
    "        file_number = int(filename.split('.')[0])\n",
    "        # Open the file with utf-8 encoding and ignore decoding errors\n",
    "        with open(os.path.join('documents', filename), 'r', encoding='utf-8', errors='ignore') as file:\n",
    "            length = len(file.read())\n",
    "        # Append the filename and length to the list\n",
    "        file_lengths.append([file_number, length])\n",
    "\n",
    "# Convert the list to a Pandas DataFrame and set the index to the file number\n",
    "df = pd.DataFrame(file_lengths, columns=['File Number', 'Length']).set_index('File Number')\n",
    "\n",
    "df"
   ]
  },
  {
   "cell_type": "code",
   "execution_count": 3,
   "metadata": {},
   "outputs": [
    {
     "name": "stdout",
     "output_type": "stream",
     "text": [
      "File Lengths:\n",
      "             Length\n",
      "File Number        \n",
      "0             43410\n",
      "1             35462\n",
      "10            34929\n",
      "100           76322\n",
      "1000          10034\n",
      "...             ...\n",
      "992            7077\n",
      "994            9869\n",
      "995            9038\n",
      "996            9521\n",
      "998           12300\n",
      "\n",
      "[1283 rows x 1 columns]\n",
      "\n",
      "Statistics:\n",
      "                           Value\n",
      "Mean Length         5.439813e+04\n",
      "Median Length       3.286100e+04\n",
      "Min Length          5.010000e+03\n",
      "Max Length          1.224248e+06\n",
      "Standard Deviation  7.232297e+04\n",
      "Total Files         1.283000e+03\n"
     ]
    }
   ],
   "source": [
    "import pandas as pd\n",
    "import os\n",
    "import numpy as np\n",
    "\n",
    "# Initialize an empty list to store file lengths\n",
    "file_lengths = []\n",
    "\n",
    "# Loop through each file in the \"documents\" subdirectory\n",
    "for filename in os.listdir('documents'):\n",
    "    # Check if the file is a .txt file\n",
    "    if filename.endswith(\".txt\"):\n",
    "        # Extract the file number from the filename\n",
    "        file_number = int(filename.split('.')[0])\n",
    "        # Open the file with utf-8 encoding and ignore decoding errors\n",
    "        with open(os.path.join('documents', filename), 'r', encoding='utf-8', errors='ignore') as file:\n",
    "            length = len(file.read())\n",
    "        # Append the filename and length to the list\n",
    "        file_lengths.append([file_number, length])\n",
    "\n",
    "# Convert the list to a Pandas DataFrame and set the index to the file number\n",
    "df = pd.DataFrame(file_lengths, columns=['File Number', 'Length']).set_index('File Number')\n",
    "\n",
    "# Calculate statistics\n",
    "stats = {\n",
    "    'Mean Length': np.mean(df['Length']),\n",
    "    'Median Length': np.median(df['Length']),\n",
    "    'Min Length': np.min(df['Length']),\n",
    "    'Max Length': np.max(df['Length']),\n",
    "    'Standard Deviation': np.std(df['Length']),\n",
    "    'Total Files': len(df)\n",
    "}\n",
    "\n",
    "# Create a DataFrame for the statistics\n",
    "stats_df = pd.DataFrame.from_dict(stats, orient='index', columns=['Value'])\n",
    "\n",
    "# Print the original DataFrame and the statistics\n",
    "print(\"File Lengths:\")\n",
    "print(df)\n",
    "print(\"\\nStatistics:\")\n",
    "print(stats_df)\n",
    "\n",
    "# Optionally, you can save these to CSV files\n",
    "df.to_csv('file_lengths.csv')\n",
    "stats_df.to_csv('file_length_statistics.csv')"
   ]
  },
  {
   "cell_type": "code",
   "execution_count": 1,
   "metadata": {},
   "outputs": [
    {
     "ename": "NameError",
     "evalue": "name 'df' is not defined",
     "output_type": "error",
     "traceback": [
      "\u001b[1;31m---------------------------------------------------------------------------\u001b[0m",
      "\u001b[1;31mNameError\u001b[0m                                 Traceback (most recent call last)",
      "Input \u001b[1;32mIn [1]\u001b[0m, in \u001b[0;36m<module>\u001b[1;34m\u001b[0m\n\u001b[0;32m      1\u001b[0m \u001b[38;5;28;01mimport\u001b[39;00m \u001b[38;5;21;01mmatplotlib\u001b[39;00m\u001b[38;5;21;01m.\u001b[39;00m\u001b[38;5;21;01mpyplot\u001b[39;00m \u001b[38;5;28;01mas\u001b[39;00m \u001b[38;5;21;01mplt\u001b[39;00m\n\u001b[0;32m      3\u001b[0m \u001b[38;5;66;03m# Histogram: Plot the distribution of file lengths\u001b[39;00m\n\u001b[1;32m----> 4\u001b[0m \u001b[43mdf\u001b[49m[\u001b[38;5;124m'\u001b[39m\u001b[38;5;124mLength\u001b[39m\u001b[38;5;124m'\u001b[39m]\u001b[38;5;241m.\u001b[39mhist(bins\u001b[38;5;241m=\u001b[39m\u001b[38;5;241m50\u001b[39m)\n\u001b[0;32m      5\u001b[0m plt\u001b[38;5;241m.\u001b[39mtitle(\u001b[38;5;124m'\u001b[39m\u001b[38;5;124mDistribution of File Lengths\u001b[39m\u001b[38;5;124m'\u001b[39m)\n\u001b[0;32m      6\u001b[0m plt\u001b[38;5;241m.\u001b[39mxlabel(\u001b[38;5;124m'\u001b[39m\u001b[38;5;124mLength\u001b[39m\u001b[38;5;124m'\u001b[39m)\n",
      "\u001b[1;31mNameError\u001b[0m: name 'df' is not defined"
     ]
    }
   ],
   "source": [
    "import matplotlib.pyplot as plt\n",
    "\n",
    "# Histogram: Plot the distribution of file lengths\n",
    "df['Length'].hist(bins=50)\n",
    "plt.title('Distribution of File Lengths')\n",
    "plt.xlabel('Length')\n",
    "plt.ylabel('Frequency')\n",
    "plt.show()"
   ]
  },
  {
   "cell_type": "code",
   "execution_count": 277,
   "metadata": {},
   "outputs": [
    {
     "data": {
      "image/png": "[encoded data removed]",
      "text/plain": [
       "<Figure size 432x288 with 1 Axes>"
      ]
     },
     "metadata": {
      "needs_background": "light"
     },
     "output_type": "display_data"
    }
   ],
   "source": [
    "# Scatter Plot: Visualize the relationship between file length and file index\n",
    "plt.scatter(df.index, df['Length'])\n",
    "plt.title('Relationship between File Length and File Index')\n",
    "plt.xlabel('File Index')\n",
    "plt.ylabel('Length')\n",
    "plt.show()"
   ]
  },
  {
   "cell_type": "code",
   "execution_count": 278,
   "metadata": {},
   "outputs": [
    {
     "name": "stdout",
     "output_type": "stream",
     "text": [
      "Deleted 0 files\n"
     ]
    }
   ],
   "source": [
    "# Delete files with less than 5000 characters\n",
    "files_to_delete = df[df['Length'] < 5000].index.tolist()\n",
    "\n",
    "for file_number in files_to_delete:\n",
    "    filename = f\"{file_number}.txt\"\n",
    "    os.remove(os.path.join('documents', filename))\n",
    "\n",
    "print(f\"Deleted {len(files_to_delete)} files\")"
   ]
  },
  {
   "cell_type": "code",
   "execution_count": 292,
   "metadata": {},
   "outputs": [
    {
     "name": "stdout",
     "output_type": "stream",
     "text": [
      "Processing file 0.txt\n",
      "Processing file documents\\0.txt\n",
      "Cleaned and saved 0.txt\n",
      "Processing file 1.txt\n",
      "Processing file documents\\1.txt\n",
      "Cleaned and saved 1.txt\n",
      "Processing file 2.txt\n",
      "Processing file documents\\2.txt\n",
      "Cleaned and saved 2.txt\n",
      "Processing file 3.txt\n",
      "Processing file documents\\3.txt\n",
      "Cleaned and saved 3.txt\n",
      "Processing file 4.txt\n",
      "Processing file documents\\4.txt\n",
      "Cleaned and saved 4.txt\n",
      "Processing file 5.txt\n",
      "Processing file documents\\5.txt\n",
      "Cleaned and saved 5.txt\n",
      "Processing file 6.txt\n",
      "Processing file documents\\6.txt\n",
      "Cleaned and saved 6.txt\n",
      "Processing file 7.txt\n",
      "Processing file documents\\7.txt\n",
      "Cleaned and saved 7.txt\n",
      "Processing file 8.txt\n",
      "Processing file documents\\8.txt\n"
     ]
    },
    {
     "ename": "FileNotFoundError",
     "evalue": "[Errno 2] No such file or directory: 'documents\\\\8.txt'",
     "output_type": "error",
     "traceback": [
      "\u001b[1;31m---------------------------------------------------------------------------\u001b[0m",
      "\u001b[1;31mFileNotFoundError\u001b[0m                         Traceback (most recent call last)",
      "Input \u001b[1;32mIn [292]\u001b[0m, in \u001b[0;36m<module>\u001b[1;34m\u001b[0m\n\u001b[0;32m     12\u001b[0m file_path \u001b[38;5;241m=\u001b[39m os\u001b[38;5;241m.\u001b[39mpath\u001b[38;5;241m.\u001b[39mjoin(\u001b[38;5;124m\"\u001b[39m\u001b[38;5;124mdocuments\u001b[39m\u001b[38;5;124m\"\u001b[39m, filename)  \u001b[38;5;66;03m# specify the subdirectory\u001b[39;00m\n\u001b[0;32m     13\u001b[0m \u001b[38;5;28mprint\u001b[39m(\u001b[38;5;124mf\u001b[39m\u001b[38;5;124m\"\u001b[39m\u001b[38;5;124mProcessing file \u001b[39m\u001b[38;5;132;01m{\u001b[39;00mfile_path\u001b[38;5;132;01m}\u001b[39;00m\u001b[38;5;124m\"\u001b[39m)\n\u001b[1;32m---> 15\u001b[0m \u001b[38;5;28;01mwith\u001b[39;00m \u001b[38;5;28;43mopen\u001b[39;49m\u001b[43m(\u001b[49m\u001b[43mfile_path\u001b[49m\u001b[43m,\u001b[49m\u001b[43m \u001b[49m\u001b[38;5;124;43m'\u001b[39;49m\u001b[38;5;124;43mr\u001b[39;49m\u001b[38;5;124;43m'\u001b[39;49m\u001b[43m,\u001b[49m\u001b[43m \u001b[49m\u001b[43mencoding\u001b[49m\u001b[38;5;241;43m=\u001b[39;49m\u001b[38;5;124;43m'\u001b[39;49m\u001b[38;5;124;43mutf-8\u001b[39;49m\u001b[38;5;124;43m'\u001b[39;49m\u001b[43m,\u001b[49m\u001b[43m \u001b[49m\u001b[43merrors\u001b[49m\u001b[38;5;241;43m=\u001b[39;49m\u001b[38;5;124;43m'\u001b[39;49m\u001b[38;5;124;43mignore\u001b[39;49m\u001b[38;5;124;43m'\u001b[39;49m\u001b[43m)\u001b[49m \u001b[38;5;28;01mas\u001b[39;00m file:\n\u001b[0;32m     16\u001b[0m     text \u001b[38;5;241m=\u001b[39m file\u001b[38;5;241m.\u001b[39mread()\n\u001b[0;32m     18\u001b[0m     cleaned_text \u001b[38;5;241m=\u001b[39m re\u001b[38;5;241m.\u001b[39msub(\u001b[38;5;124mr\u001b[39m\u001b[38;5;124m'\u001b[39m\u001b[38;5;124m\\\u001b[39m\u001b[38;5;124mn\u001b[39m\u001b[38;5;124m\\\u001b[39m\u001b[38;5;124md+ \u001b[39m\u001b[38;5;124m'\u001b[39m, \u001b[38;5;124m'\u001b[39m\u001b[38;5;124m'\u001b[39m, text)  \u001b[38;5;66;03m# clean the text\u001b[39;00m\n",
      "\u001b[1;31mFileNotFoundError\u001b[0m: [Errno 2] No such file or directory: 'documents\\\\8.txt'"
     ]
    }
   ],
   "source": [
    "import re\n",
    "import os\n",
    "\n",
    "# Create a directory for cleaned files if it doesn't exist\n",
    "cleaned_dir = \"cleaned_documents\"\n",
    "if not os.path.exists(cleaned_dir):\n",
    "    os.makedirs(cleaned_dir)\n",
    "\n",
    "for i in range(1474):  # loop through files 0.txt to 1473.txt\n",
    "    print(f\"Processing file {i}.txt\")\n",
    "    filename = f\"{i}.txt\"\n",
    "    file_path = os.path.join(\"documents\", filename)  # specify the subdirectory\n",
    "    print(f\"Processing file {file_path}\")\n",
    "    \n",
    "    with open(file_path, 'r', encoding='utf-8', errors='ignore') as file:\n",
    "        text = file.read()\n",
    "        \n",
    "        cleaned_text = re.sub(r'\\n\\d+ ', '', text)  # clean the text\n",
    "        \n",
    "        cleaned_file_path = os.path.join(cleaned_dir, filename)  # specify the cleaned directory\n",
    "        with open(cleaned_file_path, 'w') as cleaned_file:  # open a new file in write mode\n",
    "            cleaned_file.write(cleaned_text)  # write the cleaned text to the new file\n",
    "\n",
    "        print(f\"Cleaned and saved {filename}\")"
   ]
  },
  {
   "cell_type": "code",
   "execution_count": 283,
   "metadata": {},
   "outputs": [
    {
     "name": "stdout",
     "output_type": "stream",
     "text": [
      "Empty DataFrame\n",
      "Columns: [Length]\n",
      "Index: []\n"
     ]
    }
   ],
   "source": []
  },
  {
   "cell_type": "code",
   "execution_count": null,
   "metadata": {},
   "outputs": [],
   "source": []
  }
 ],
 "metadata": {
  "kernelspec": {
   "display_name": "Python 3",
   "language": "python",
   "name": "python3"
  },
  "language_info": {
   "codemirror_mode": {
    "name": "ipython",
    "version": 3
   },
   "file_extension": ".py",
   "mimetype": "text/x-python",
   "name": "python",
   "nbconvert_exporter": "python",
   "pygments_lexer": "ipython3",
   "version": "3.12.9"
  }
 },
 "nbformat": 4,
 "nbformat_minor": 2
}
